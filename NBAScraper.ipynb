{
 "cells": [
  {
   "cell_type": "code",
   "execution_count": 19,
   "id": "11710bb2-75ba-4dd3-9c09-39876c20e362",
   "metadata": {},
   "outputs": [],
   "source": [
    "year = 2022"
   ]
  },
  {
   "cell_type": "code",
   "execution_count": 20,
   "id": "581a9525-8db3-4761-85e2-da1f16aabf15",
   "metadata": {},
   "outputs": [],
   "source": [
    "import requests\n",
    "from bs4 import BeautifulSoup\n",
    "import pandas as pd\n",
    "from selenium import webdriver"
   ]
  },
  {
   "cell_type": "code",
   "execution_count": 21,
   "id": "5938eca2-4741-4231-b000-2029fa0f7fc4",
   "metadata": {},
   "outputs": [
    {
     "name": "stderr",
     "output_type": "stream",
     "text": [
      "warning"
     ]
    }
   ],
   "source": [
    "driver = webdriver.Chrome(executable_path = \"/Users/julia/Downloads/chromedriver_win32/chromedriver.exe\")"
   ]
  },
  {
   "cell_type": "code",
   "execution_count": 22,
   "id": "be1daa9b-4473-43e8-99d9-eca42b229429",
   "metadata": {},
   "outputs": [],
   "source": [
    "import time\n",
    "\n",
    "player_stats_url = \"https://www.basketball-reference.com/leagues/NBA_{}_per_game.html\"\n",
    "url = player_stats_url.format(year)\n",
    "\n",
    "driver.get(url)\n",
    "driver.execute_script(\"window.scrollTo(1,10000)\")\n",
    "time.sleep(2)\n",
    "\n",
    "html = driver.page_source\n",
    "with open(\"NBA Stats 1991-Present/{}.html\".format(year), \"w+\", encoding = \"utf-8\") as f:\n",
    "    f.write(html)"
   ]
  },
  {
   "cell_type": "code",
   "execution_count": 23,
   "id": "dff98121-adb8-4ed8-b5dd-2c432e31f7fc",
   "metadata": {},
   "outputs": [],
   "source": [
    "with open(\"NBA Stats 1991-Present/{}.html\".format(year), encoding=\"utf-8\") as f:\n",
    "    page = f.read()\n",
    "\n",
    "    soup = BeautifulSoup(page, \"html.parser\")\n",
    "    soup.find('tr', class_= \"thead\").decompose()\n",
    "    player_table = soup.find(id = \"per_game_stats\")\n",
    "    player = pd.read_html(str(player_table))[0]\n",
    "    player[\"Year\"] = year\n",
    "    player.to_csv(\"NBA Stats 1991-Present/{}_nba_players.csv\".format(year))\n"
   ]
  },
  {
   "cell_type": "code",
   "execution_count": 24,
   "id": "9e6bcc88-7bcf-4d6d-9d3d-cb0fb35dc661",
   "metadata": {},
   "outputs": [],
   "source": [
    "def single_row(df):\n",
    "    if df.shape[0] == 1:\n",
    "        return df\n",
    "    else:\n",
    "        row = df[df[\"Tm\"] == \"TOT\"]\n",
    "        row[\"Tm\"] = df.iloc[-1,:][\"Tm\"]\n",
    "        return row"
   ]
  },
  {
   "cell_type": "code",
   "execution_count": 25,
   "id": "56d564c2-e0fb-44c8-af75-9dfb7bf1e1ad",
   "metadata": {},
   "outputs": [],
   "source": [
    "players = pd.read_csv(\"NBA Stats 1991-Present/{}_nba_players.csv\".format(year))\n",
    "del players[\"Unnamed: 0\"]\n",
    "del players[\"Rk\"]\n",
    "players = players.groupby([\"Player\", \"Year\"]).apply(single_row)\n",
    "players.index = players.index.droplevel()\n",
    "players.index = players.index.droplevel()\n",
    "players.to_csv(\"NBA Stats 1991-Present/{}_nba_players.csv\".format(year))\n"
   ]
  }
 ],
 "metadata": {
  "kernelspec": {
   "display_name": "Python 3.9.6 64-bit",
   "language": "python",
   "name": "python3"
  },
  "language_info": {
   "codemirror_mode": {
    "name": "ipython",
    "version": 3
   },
   "file_extension": ".py",
   "mimetype": "text/x-python",
   "name": "python",
   "nbconvert_exporter": "python",
   "pygments_lexer": "ipython3",
   "version": "3.9.6"
  },
  "vscode": {
   "interpreter": {
    "hash": "a54ac15f044bd81c8ea12745f6d2554b69f2a80a6466dc1e56873ad2f419b1b0"
   }
  }
 },
 "nbformat": 4,
 "nbformat_minor": 5
}
